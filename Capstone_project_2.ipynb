{
 "cells": [
  {
   "cell_type": "code",
   "execution_count": 2,
   "metadata": {},
   "outputs": [
    {
     "name": "stderr",
     "output_type": "stream",
     "text": [
      "C:\\Users\\harshvardhan\\Anaconda3\\lib\\site-packages\\h5py\\__init__.py:36: FutureWarning: Conversion of the second argument of issubdtype from `float` to `np.floating` is deprecated. In future, it will be treated as `np.float64 == np.dtype(float).type`.\n",
      "  from ._conv import register_converters as _register_converters\n",
      "Using TensorFlow backend.\n"
     ]
    }
   ],
   "source": [
    "import pandas as pd\n",
    "import numpy as np\n",
    "import matplotlib.pyplot as plt\n",
    "\n",
    "from sklearn.preprocessing import MinMaxScaler\n",
    "\n",
    "from keras.models import Sequential\n",
    "from keras.layers import Dense\n",
    "from keras.layers import LSTM"
   ]
  },
  {
   "cell_type": "code",
   "execution_count": 40,
   "metadata": {},
   "outputs": [],
   "source": [
    "import seaborn as sns\n",
    "from statsmodels.tsa.stattools import adfuller"
   ]
  },
  {
   "cell_type": "code",
   "execution_count": 3,
   "metadata": {},
   "outputs": [],
   "source": [
    "runoff = pd.read_csv('fish_river_flow.txt', sep='\\t',skiprows=31, header=0)"
   ]
  },
  {
   "cell_type": "code",
   "execution_count": 4,
   "metadata": {},
   "outputs": [],
   "source": [
    "runoff = runoff.set_index(['20d'])"
   ]
  },
  {
   "cell_type": "code",
   "execution_count": 5,
   "metadata": {},
   "outputs": [],
   "source": [
    "runoff.index = pd.to_datetime(runoff.index)"
   ]
  },
  {
   "cell_type": "code",
   "execution_count": 6,
   "metadata": {},
   "outputs": [
    {
     "data": {
      "text/html": [
       "<div>\n",
       "<style scoped>\n",
       "    .dataframe tbody tr th:only-of-type {\n",
       "        vertical-align: middle;\n",
       "    }\n",
       "\n",
       "    .dataframe tbody tr th {\n",
       "        vertical-align: top;\n",
       "    }\n",
       "\n",
       "    .dataframe thead th {\n",
       "        text-align: right;\n",
       "    }\n",
       "</style>\n",
       "<table border=\"1\" class=\"dataframe\">\n",
       "  <thead>\n",
       "    <tr style=\"text-align: right;\">\n",
       "      <th></th>\n",
       "      <th>5s</th>\n",
       "      <th>15s</th>\n",
       "      <th>6s</th>\n",
       "      <th>14n</th>\n",
       "      <th>10s</th>\n",
       "    </tr>\n",
       "    <tr>\n",
       "      <th>20d</th>\n",
       "      <th></th>\n",
       "      <th></th>\n",
       "      <th></th>\n",
       "      <th></th>\n",
       "      <th></th>\n",
       "    </tr>\n",
       "  </thead>\n",
       "  <tbody>\n",
       "    <tr>\n",
       "      <th>2000-01-01 00:00:00</th>\n",
       "      <td>USGS</td>\n",
       "      <td>2378500</td>\n",
       "      <td>CST</td>\n",
       "      <td>66.0</td>\n",
       "      <td>A:[91]</td>\n",
       "    </tr>\n",
       "    <tr>\n",
       "      <th>2000-01-01 00:30:00</th>\n",
       "      <td>USGS</td>\n",
       "      <td>2378500</td>\n",
       "      <td>CST</td>\n",
       "      <td>66.0</td>\n",
       "      <td>A:[91]</td>\n",
       "    </tr>\n",
       "    <tr>\n",
       "      <th>2000-01-01 01:00:00</th>\n",
       "      <td>USGS</td>\n",
       "      <td>2378500</td>\n",
       "      <td>CST</td>\n",
       "      <td>66.0</td>\n",
       "      <td>A:[91]</td>\n",
       "    </tr>\n",
       "    <tr>\n",
       "      <th>2000-01-01 01:30:00</th>\n",
       "      <td>USGS</td>\n",
       "      <td>2378500</td>\n",
       "      <td>CST</td>\n",
       "      <td>66.0</td>\n",
       "      <td>A:[91]</td>\n",
       "    </tr>\n",
       "    <tr>\n",
       "      <th>2000-01-01 02:00:00</th>\n",
       "      <td>USGS</td>\n",
       "      <td>2378500</td>\n",
       "      <td>CST</td>\n",
       "      <td>66.0</td>\n",
       "      <td>A:[91]</td>\n",
       "    </tr>\n",
       "  </tbody>\n",
       "</table>\n",
       "</div>"
      ],
      "text/plain": [
       "                       5s      15s   6s   14n     10s\n",
       "20d                                                  \n",
       "2000-01-01 00:00:00  USGS  2378500  CST  66.0  A:[91]\n",
       "2000-01-01 00:30:00  USGS  2378500  CST  66.0  A:[91]\n",
       "2000-01-01 01:00:00  USGS  2378500  CST  66.0  A:[91]\n",
       "2000-01-01 01:30:00  USGS  2378500  CST  66.0  A:[91]\n",
       "2000-01-01 02:00:00  USGS  2378500  CST  66.0  A:[91]"
      ]
     },
     "execution_count": 6,
     "metadata": {},
     "output_type": "execute_result"
    }
   ],
   "source": [
    "runoff.head()"
   ]
  },
  {
   "cell_type": "code",
   "execution_count": 7,
   "metadata": {},
   "outputs": [],
   "source": [
    "#drop unusable columns\n",
    "cols = [0,1,2,4]\n",
    "runoff.drop(runoff.columns[cols],axis=1,inplace=True)"
   ]
  },
  {
   "cell_type": "code",
   "execution_count": 14,
   "metadata": {},
   "outputs": [],
   "source": [
    "#rename the runoff column\n",
    "runoff.rename(columns={'14n': 'Runoff'},inplace=True)"
   ]
  },
  {
   "cell_type": "code",
   "execution_count": 15,
   "metadata": {},
   "outputs": [
    {
     "name": "stdout",
     "output_type": "stream",
     "text": [
      "<class 'pandas.core.frame.DataFrame'>\n",
      "DatetimeIndex: 311656 entries, 2000-01-01 00:00:00 to 2017-12-31 23:30:00\n",
      "Data columns (total 1 columns):\n",
      "Runoff    311656 non-null float64\n",
      "dtypes: float64(1)\n",
      "memory usage: 4.8 MB\n"
     ]
    }
   ],
   "source": [
    "runoff.info()"
   ]
  },
  {
   "cell_type": "code",
   "execution_count": 16,
   "metadata": {},
   "outputs": [],
   "source": [
    "#resample the data to daily\n",
    "runoff_new = runoff.resample('D').mean()"
   ]
  },
  {
   "cell_type": "code",
   "execution_count": 17,
   "metadata": {},
   "outputs": [
    {
     "data": {
      "text/html": [
       "<div>\n",
       "<style scoped>\n",
       "    .dataframe tbody tr th:only-of-type {\n",
       "        vertical-align: middle;\n",
       "    }\n",
       "\n",
       "    .dataframe tbody tr th {\n",
       "        vertical-align: top;\n",
       "    }\n",
       "\n",
       "    .dataframe thead th {\n",
       "        text-align: right;\n",
       "    }\n",
       "</style>\n",
       "<table border=\"1\" class=\"dataframe\">\n",
       "  <thead>\n",
       "    <tr style=\"text-align: right;\">\n",
       "      <th></th>\n",
       "      <th>Runoff</th>\n",
       "    </tr>\n",
       "    <tr>\n",
       "      <th>20d</th>\n",
       "      <th></th>\n",
       "    </tr>\n",
       "  </thead>\n",
       "  <tbody>\n",
       "    <tr>\n",
       "      <th>2017-12-27</th>\n",
       "      <td>102.314583</td>\n",
       "    </tr>\n",
       "    <tr>\n",
       "      <th>2017-12-28</th>\n",
       "      <td>114.229167</td>\n",
       "    </tr>\n",
       "    <tr>\n",
       "      <th>2017-12-29</th>\n",
       "      <td>115.229167</td>\n",
       "    </tr>\n",
       "    <tr>\n",
       "      <th>2017-12-30</th>\n",
       "      <td>102.862500</td>\n",
       "    </tr>\n",
       "    <tr>\n",
       "      <th>2017-12-31</th>\n",
       "      <td>103.697917</td>\n",
       "    </tr>\n",
       "  </tbody>\n",
       "</table>\n",
       "</div>"
      ],
      "text/plain": [
       "                Runoff\n",
       "20d                   \n",
       "2017-12-27  102.314583\n",
       "2017-12-28  114.229167\n",
       "2017-12-29  115.229167\n",
       "2017-12-30  102.862500\n",
       "2017-12-31  103.697917"
      ]
     },
     "execution_count": 17,
     "metadata": {},
     "output_type": "execute_result"
    }
   ],
   "source": [
    "runoff_new.tail()"
   ]
  },
  {
   "cell_type": "code",
   "execution_count": 18,
   "metadata": {},
   "outputs": [
    {
     "data": {
      "text/html": [
       "<div>\n",
       "<style scoped>\n",
       "    .dataframe tbody tr th:only-of-type {\n",
       "        vertical-align: middle;\n",
       "    }\n",
       "\n",
       "    .dataframe tbody tr th {\n",
       "        vertical-align: top;\n",
       "    }\n",
       "\n",
       "    .dataframe thead th {\n",
       "        text-align: right;\n",
       "    }\n",
       "</style>\n",
       "<table border=\"1\" class=\"dataframe\">\n",
       "  <thead>\n",
       "    <tr style=\"text-align: right;\">\n",
       "      <th></th>\n",
       "      <th>Runoff</th>\n",
       "    </tr>\n",
       "  </thead>\n",
       "  <tbody>\n",
       "    <tr>\n",
       "      <th>count</th>\n",
       "      <td>311656.000000</td>\n",
       "    </tr>\n",
       "    <tr>\n",
       "      <th>mean</th>\n",
       "      <td>102.095316</td>\n",
       "    </tr>\n",
       "    <tr>\n",
       "      <th>std</th>\n",
       "      <td>239.183210</td>\n",
       "    </tr>\n",
       "    <tr>\n",
       "      <th>min</th>\n",
       "      <td>31.000000</td>\n",
       "    </tr>\n",
       "    <tr>\n",
       "      <th>25%</th>\n",
       "      <td>56.600000</td>\n",
       "    </tr>\n",
       "    <tr>\n",
       "      <th>50%</th>\n",
       "      <td>70.800000</td>\n",
       "    </tr>\n",
       "    <tr>\n",
       "      <th>75%</th>\n",
       "      <td>94.000000</td>\n",
       "    </tr>\n",
       "    <tr>\n",
       "      <th>max</th>\n",
       "      <td>18700.000000</td>\n",
       "    </tr>\n",
       "  </tbody>\n",
       "</table>\n",
       "</div>"
      ],
      "text/plain": [
       "              Runoff\n",
       "count  311656.000000\n",
       "mean      102.095316\n",
       "std       239.183210\n",
       "min        31.000000\n",
       "25%        56.600000\n",
       "50%        70.800000\n",
       "75%        94.000000\n",
       "max     18700.000000"
      ]
     },
     "execution_count": 18,
     "metadata": {},
     "output_type": "execute_result"
    }
   ],
   "source": [
    "runoff.describe()"
   ]
  },
  {
   "cell_type": "code",
   "execution_count": 19,
   "metadata": {},
   "outputs": [
    {
     "name": "stdout",
     "output_type": "stream",
     "text": [
      "<class 'pandas.core.frame.DataFrame'>\n",
      "DatetimeIndex: 311656 entries, 2000-01-01 00:00:00 to 2017-12-31 23:30:00\n",
      "Data columns (total 1 columns):\n",
      "Runoff    311656 non-null float64\n",
      "dtypes: float64(1)\n",
      "memory usage: 14.8 MB\n"
     ]
    }
   ],
   "source": [
    "runoff.info()"
   ]
  },
  {
   "cell_type": "code",
   "execution_count": 20,
   "metadata": {},
   "outputs": [],
   "source": [
    "weather = pd.read_csv('robertsdale_weather.csv')"
   ]
  },
  {
   "cell_type": "code",
   "execution_count": 21,
   "metadata": {},
   "outputs": [
    {
     "data": {
      "text/html": [
       "<div>\n",
       "<style scoped>\n",
       "    .dataframe tbody tr th:only-of-type {\n",
       "        vertical-align: middle;\n",
       "    }\n",
       "\n",
       "    .dataframe tbody tr th {\n",
       "        vertical-align: top;\n",
       "    }\n",
       "\n",
       "    .dataframe thead th {\n",
       "        text-align: right;\n",
       "    }\n",
       "</style>\n",
       "<table border=\"1\" class=\"dataframe\">\n",
       "  <thead>\n",
       "    <tr style=\"text-align: right;\">\n",
       "      <th></th>\n",
       "      <th>STATION</th>\n",
       "      <th>NAME</th>\n",
       "      <th>DATE</th>\n",
       "      <th>DAPR</th>\n",
       "      <th>MDPR</th>\n",
       "      <th>PRCP</th>\n",
       "      <th>SNOW</th>\n",
       "      <th>SNWD</th>\n",
       "      <th>TMAX</th>\n",
       "      <th>TMIN</th>\n",
       "      <th>TOBS</th>\n",
       "    </tr>\n",
       "  </thead>\n",
       "  <tbody>\n",
       "    <tr>\n",
       "      <th>0</th>\n",
       "      <td>USC00016988</td>\n",
       "      <td>ROBERTSDALE, AL US</td>\n",
       "      <td>2000-01-01</td>\n",
       "      <td>NaN</td>\n",
       "      <td>NaN</td>\n",
       "      <td>0.0</td>\n",
       "      <td>0.0</td>\n",
       "      <td>0.0</td>\n",
       "      <td>24.4</td>\n",
       "      <td>9.4</td>\n",
       "      <td>13.3</td>\n",
       "    </tr>\n",
       "    <tr>\n",
       "      <th>1</th>\n",
       "      <td>USC00016988</td>\n",
       "      <td>ROBERTSDALE, AL US</td>\n",
       "      <td>2000-01-02</td>\n",
       "      <td>NaN</td>\n",
       "      <td>NaN</td>\n",
       "      <td>0.0</td>\n",
       "      <td>0.0</td>\n",
       "      <td>0.0</td>\n",
       "      <td>25.0</td>\n",
       "      <td>13.3</td>\n",
       "      <td>19.4</td>\n",
       "    </tr>\n",
       "    <tr>\n",
       "      <th>2</th>\n",
       "      <td>USC00016988</td>\n",
       "      <td>ROBERTSDALE, AL US</td>\n",
       "      <td>2000-01-03</td>\n",
       "      <td>NaN</td>\n",
       "      <td>NaN</td>\n",
       "      <td>0.0</td>\n",
       "      <td>0.0</td>\n",
       "      <td>0.0</td>\n",
       "      <td>25.6</td>\n",
       "      <td>19.4</td>\n",
       "      <td>20.0</td>\n",
       "    </tr>\n",
       "    <tr>\n",
       "      <th>3</th>\n",
       "      <td>USC00016988</td>\n",
       "      <td>ROBERTSDALE, AL US</td>\n",
       "      <td>2000-01-04</td>\n",
       "      <td>NaN</td>\n",
       "      <td>NaN</td>\n",
       "      <td>4.1</td>\n",
       "      <td>0.0</td>\n",
       "      <td>0.0</td>\n",
       "      <td>25.0</td>\n",
       "      <td>13.3</td>\n",
       "      <td>13.9</td>\n",
       "    </tr>\n",
       "    <tr>\n",
       "      <th>4</th>\n",
       "      <td>USC00016988</td>\n",
       "      <td>ROBERTSDALE, AL US</td>\n",
       "      <td>2000-01-05</td>\n",
       "      <td>NaN</td>\n",
       "      <td>NaN</td>\n",
       "      <td>0.0</td>\n",
       "      <td>0.0</td>\n",
       "      <td>0.0</td>\n",
       "      <td>17.8</td>\n",
       "      <td>-1.1</td>\n",
       "      <td>1.1</td>\n",
       "    </tr>\n",
       "  </tbody>\n",
       "</table>\n",
       "</div>"
      ],
      "text/plain": [
       "       STATION                NAME        DATE  DAPR  MDPR  PRCP  SNOW  SNWD  \\\n",
       "0  USC00016988  ROBERTSDALE, AL US  2000-01-01   NaN   NaN   0.0   0.0   0.0   \n",
       "1  USC00016988  ROBERTSDALE, AL US  2000-01-02   NaN   NaN   0.0   0.0   0.0   \n",
       "2  USC00016988  ROBERTSDALE, AL US  2000-01-03   NaN   NaN   0.0   0.0   0.0   \n",
       "3  USC00016988  ROBERTSDALE, AL US  2000-01-04   NaN   NaN   4.1   0.0   0.0   \n",
       "4  USC00016988  ROBERTSDALE, AL US  2000-01-05   NaN   NaN   0.0   0.0   0.0   \n",
       "\n",
       "   TMAX  TMIN  TOBS  \n",
       "0  24.4   9.4  13.3  \n",
       "1  25.0  13.3  19.4  \n",
       "2  25.6  19.4  20.0  \n",
       "3  25.0  13.3  13.9  \n",
       "4  17.8  -1.1   1.1  "
      ]
     },
     "execution_count": 21,
     "metadata": {},
     "output_type": "execute_result"
    }
   ],
   "source": [
    "weather.head()"
   ]
  },
  {
   "cell_type": "code",
   "execution_count": 22,
   "metadata": {},
   "outputs": [],
   "source": [
    "weather = weather.set_index(['DATE'])"
   ]
  },
  {
   "cell_type": "code",
   "execution_count": 23,
   "metadata": {},
   "outputs": [],
   "source": [
    "weather.index = pd.to_datetime(weather.index)"
   ]
  },
  {
   "cell_type": "code",
   "execution_count": 24,
   "metadata": {},
   "outputs": [],
   "source": [
    "weather = weather[['PRCP','TMAX','TMIN']]"
   ]
  },
  {
   "cell_type": "code",
   "execution_count": 25,
   "metadata": {},
   "outputs": [
    {
     "name": "stdout",
     "output_type": "stream",
     "text": [
      "<class 'pandas.core.frame.DataFrame'>\n",
      "DatetimeIndex: 6489 entries, 2000-01-01 to 2017-12-31\n",
      "Data columns (total 3 columns):\n",
      "PRCP    6341 non-null float64\n",
      "TMAX    6275 non-null float64\n",
      "TMIN    6278 non-null float64\n",
      "dtypes: float64(3)\n",
      "memory usage: 202.8 KB\n"
     ]
    }
   ],
   "source": [
    "weather.info()"
   ]
  },
  {
   "cell_type": "code",
   "execution_count": 26,
   "metadata": {},
   "outputs": [
    {
     "data": {
      "text/plain": [
       "PRCP    148\n",
       "TMAX    214\n",
       "TMIN    211\n",
       "dtype: int64"
      ]
     },
     "execution_count": 26,
     "metadata": {},
     "output_type": "execute_result"
    }
   ],
   "source": [
    "weather.isnull().sum()"
   ]
  },
  {
   "cell_type": "code",
   "execution_count": 27,
   "metadata": {},
   "outputs": [
    {
     "name": "stdout",
     "output_type": "stream",
     "text": [
      "<class 'pandas.core.frame.DataFrame'>\n",
      "DatetimeIndex: 6489 entries, 2000-01-01 to 2017-12-31\n",
      "Data columns (total 3 columns):\n",
      "PRCP    6341 non-null float64\n",
      "TMAX    6275 non-null float64\n",
      "TMIN    6278 non-null float64\n",
      "dtypes: float64(3)\n",
      "memory usage: 202.8 KB\n"
     ]
    }
   ],
   "source": [
    "weather.info()"
   ]
  },
  {
   "cell_type": "code",
   "execution_count": 28,
   "metadata": {},
   "outputs": [
    {
     "data": {
      "text/plain": [
       "365.5"
      ]
     },
     "execution_count": 28,
     "metadata": {},
     "output_type": "execute_result"
    }
   ],
   "source": [
    "weather.PRCP.max()"
   ]
  },
  {
   "cell_type": "code",
   "execution_count": 29,
   "metadata": {},
   "outputs": [],
   "source": [
    "combined = pd.merge(runoff_new,weather,how=\"outer\",left_index=True, right_index=True)"
   ]
  },
  {
   "cell_type": "code",
   "execution_count": 30,
   "metadata": {},
   "outputs": [
    {
     "data": {
      "text/html": [
       "<div>\n",
       "<style scoped>\n",
       "    .dataframe tbody tr th:only-of-type {\n",
       "        vertical-align: middle;\n",
       "    }\n",
       "\n",
       "    .dataframe tbody tr th {\n",
       "        vertical-align: top;\n",
       "    }\n",
       "\n",
       "    .dataframe thead th {\n",
       "        text-align: right;\n",
       "    }\n",
       "</style>\n",
       "<table border=\"1\" class=\"dataframe\">\n",
       "  <thead>\n",
       "    <tr style=\"text-align: right;\">\n",
       "      <th></th>\n",
       "      <th>Runoff</th>\n",
       "      <th>PRCP</th>\n",
       "      <th>TMAX</th>\n",
       "      <th>TMIN</th>\n",
       "    </tr>\n",
       "  </thead>\n",
       "  <tbody>\n",
       "    <tr>\n",
       "      <th>2000-01-01</th>\n",
       "      <td>65.458333</td>\n",
       "      <td>0.0</td>\n",
       "      <td>24.4</td>\n",
       "      <td>9.4</td>\n",
       "    </tr>\n",
       "    <tr>\n",
       "      <th>2000-01-02</th>\n",
       "      <td>65.145833</td>\n",
       "      <td>0.0</td>\n",
       "      <td>25.0</td>\n",
       "      <td>13.3</td>\n",
       "    </tr>\n",
       "    <tr>\n",
       "      <th>2000-01-03</th>\n",
       "      <td>64.583333</td>\n",
       "      <td>0.0</td>\n",
       "      <td>25.6</td>\n",
       "      <td>19.4</td>\n",
       "    </tr>\n",
       "    <tr>\n",
       "      <th>2000-01-04</th>\n",
       "      <td>65.208333</td>\n",
       "      <td>4.1</td>\n",
       "      <td>25.0</td>\n",
       "      <td>13.3</td>\n",
       "    </tr>\n",
       "    <tr>\n",
       "      <th>2000-01-05</th>\n",
       "      <td>64.291667</td>\n",
       "      <td>0.0</td>\n",
       "      <td>17.8</td>\n",
       "      <td>-1.1</td>\n",
       "    </tr>\n",
       "  </tbody>\n",
       "</table>\n",
       "</div>"
      ],
      "text/plain": [
       "               Runoff  PRCP  TMAX  TMIN\n",
       "2000-01-01  65.458333   0.0  24.4   9.4\n",
       "2000-01-02  65.145833   0.0  25.0  13.3\n",
       "2000-01-03  64.583333   0.0  25.6  19.4\n",
       "2000-01-04  65.208333   4.1  25.0  13.3\n",
       "2000-01-05  64.291667   0.0  17.8  -1.1"
      ]
     },
     "execution_count": 30,
     "metadata": {},
     "output_type": "execute_result"
    }
   ],
   "source": [
    "combined.head()"
   ]
  },
  {
   "cell_type": "code",
   "execution_count": 31,
   "metadata": {},
   "outputs": [
    {
     "name": "stdout",
     "output_type": "stream",
     "text": [
      "<class 'pandas.core.frame.DataFrame'>\n",
      "DatetimeIndex: 6575 entries, 2000-01-01 to 2017-12-31\n",
      "Data columns (total 4 columns):\n",
      "Runoff    6495 non-null float64\n",
      "PRCP      6341 non-null float64\n",
      "TMAX      6275 non-null float64\n",
      "TMIN      6278 non-null float64\n",
      "dtypes: float64(4)\n",
      "memory usage: 256.8 KB\n"
     ]
    }
   ],
   "source": [
    "combined.info()"
   ]
  },
  {
   "cell_type": "code",
   "execution_count": 32,
   "metadata": {},
   "outputs": [],
   "source": [
    "combined.PRCP.fillna(0,inplace=True)"
   ]
  },
  {
   "cell_type": "code",
   "execution_count": 33,
   "metadata": {},
   "outputs": [
    {
     "name": "stdout",
     "output_type": "stream",
     "text": [
      "<class 'pandas.core.frame.DataFrame'>\n",
      "DatetimeIndex: 6575 entries, 2000-01-01 to 2017-12-31\n",
      "Data columns (total 4 columns):\n",
      "Runoff    6495 non-null float64\n",
      "PRCP      6575 non-null float64\n",
      "TMAX      6275 non-null float64\n",
      "TMIN      6278 non-null float64\n",
      "dtypes: float64(4)\n",
      "memory usage: 256.8 KB\n"
     ]
    }
   ],
   "source": [
    "combined.info()"
   ]
  },
  {
   "cell_type": "code",
   "execution_count": 34,
   "metadata": {},
   "outputs": [],
   "source": [
    "combined.fillna(method='ffill',inplace=True)"
   ]
  },
  {
   "cell_type": "code",
   "execution_count": 35,
   "metadata": {},
   "outputs": [
    {
     "data": {
      "text/html": [
       "<div>\n",
       "<style scoped>\n",
       "    .dataframe tbody tr th:only-of-type {\n",
       "        vertical-align: middle;\n",
       "    }\n",
       "\n",
       "    .dataframe tbody tr th {\n",
       "        vertical-align: top;\n",
       "    }\n",
       "\n",
       "    .dataframe thead th {\n",
       "        text-align: right;\n",
       "    }\n",
       "</style>\n",
       "<table border=\"1\" class=\"dataframe\">\n",
       "  <thead>\n",
       "    <tr style=\"text-align: right;\">\n",
       "      <th></th>\n",
       "      <th>Runoff</th>\n",
       "      <th>PRCP</th>\n",
       "      <th>TMAX</th>\n",
       "      <th>TMIN</th>\n",
       "    </tr>\n",
       "  </thead>\n",
       "  <tbody>\n",
       "    <tr>\n",
       "      <th>count</th>\n",
       "      <td>6575.000000</td>\n",
       "      <td>6575.000000</td>\n",
       "      <td>6575.000000</td>\n",
       "      <td>6575.000000</td>\n",
       "    </tr>\n",
       "    <tr>\n",
       "      <th>mean</th>\n",
       "      <td>101.847366</td>\n",
       "      <td>4.545414</td>\n",
       "      <td>25.574768</td>\n",
       "      <td>13.755148</td>\n",
       "    </tr>\n",
       "    <tr>\n",
       "      <th>std</th>\n",
       "      <td>208.547926</td>\n",
       "      <td>15.278772</td>\n",
       "      <td>6.864929</td>\n",
       "      <td>8.224098</td>\n",
       "    </tr>\n",
       "    <tr>\n",
       "      <th>min</th>\n",
       "      <td>34.810638</td>\n",
       "      <td>0.000000</td>\n",
       "      <td>0.000000</td>\n",
       "      <td>-9.400000</td>\n",
       "    </tr>\n",
       "    <tr>\n",
       "      <th>25%</th>\n",
       "      <td>56.739583</td>\n",
       "      <td>0.000000</td>\n",
       "      <td>21.700000</td>\n",
       "      <td>7.200000</td>\n",
       "    </tr>\n",
       "    <tr>\n",
       "      <th>50%</th>\n",
       "      <td>71.091667</td>\n",
       "      <td>0.000000</td>\n",
       "      <td>26.700000</td>\n",
       "      <td>15.600000</td>\n",
       "    </tr>\n",
       "    <tr>\n",
       "      <th>75%</th>\n",
       "      <td>95.263542</td>\n",
       "      <td>0.300000</td>\n",
       "      <td>31.100000</td>\n",
       "      <td>21.100000</td>\n",
       "    </tr>\n",
       "    <tr>\n",
       "      <th>max</th>\n",
       "      <td>10081.666667</td>\n",
       "      <td>365.500000</td>\n",
       "      <td>39.400000</td>\n",
       "      <td>28.300000</td>\n",
       "    </tr>\n",
       "  </tbody>\n",
       "</table>\n",
       "</div>"
      ],
      "text/plain": [
       "             Runoff         PRCP         TMAX         TMIN\n",
       "count   6575.000000  6575.000000  6575.000000  6575.000000\n",
       "mean     101.847366     4.545414    25.574768    13.755148\n",
       "std      208.547926    15.278772     6.864929     8.224098\n",
       "min       34.810638     0.000000     0.000000    -9.400000\n",
       "25%       56.739583     0.000000    21.700000     7.200000\n",
       "50%       71.091667     0.000000    26.700000    15.600000\n",
       "75%       95.263542     0.300000    31.100000    21.100000\n",
       "max    10081.666667   365.500000    39.400000    28.300000"
      ]
     },
     "execution_count": 35,
     "metadata": {},
     "output_type": "execute_result"
    }
   ],
   "source": [
    "combined.describe()"
   ]
  },
  {
   "cell_type": "code",
   "execution_count": 79,
   "metadata": {},
   "outputs": [
    {
     "data": {
      "image/png": "[encoded data removed]",
      "text/plain": [
       "<Figure size 432x288 with 4 Axes>"
      ]
     },
     "metadata": {},
     "output_type": "display_data"
    }
   ],
   "source": [
    "#plot all the time series variables\n",
    "values = combined.values\n",
    "i = 1\n",
    "plt.figure()\n",
    "groups = list(range(0,4))\n",
    "for n in groups:\n",
    "    plt.subplot(len(groups), 1, i)\n",
    "    plt.plot(values[:,n])\n",
    "    plt.title(combined.columns[n], y=0.5, loc='right')\n",
    "    i += 1\n",
    "plt.show()"
   ]
  },
  {
   "cell_type": "code",
   "execution_count": 39,
   "metadata": {},
   "outputs": [
    {
     "data": {
      "image/png": "[encoded data removed]",
      "text/plain": [
       "<Figure size 432x432 with 2 Axes>"
      ]
     },
     "metadata": {},
     "output_type": "display_data"
    }
   ],
   "source": [
    "#checking covariance using heatmap\n",
    "corr = combined.corr()\n",
    "_ = plt.figure(figsize = (6,6))\n",
    "_ = sns.heatmap(corr, xticklabels=corr.columns, yticklabels=corr.columns)"
   ]
  },
  {
   "cell_type": "code",
   "execution_count": 47,
   "metadata": {},
   "outputs": [
    {
     "data": {
      "image/png": "[encoded data removed]",
      "text/plain": [
       "<Figure size 360x360 with 1 Axes>"
      ]
     },
     "metadata": {},
     "output_type": "display_data"
    }
   ],
   "source": [
    "_ = sns.lmplot(x='PRCP', y='Runoff', data=combined)"
   ]
  },
  {
   "cell_type": "code",
   "execution_count": 49,
   "metadata": {},
   "outputs": [
    {
     "name": "stdout",
     "output_type": "stream",
     "text": [
      "0.6450736387619801\n"
     ]
    }
   ],
   "source": [
    "#calculate observed pearson correlation coefficient: obs_r \n",
    "x = combined['PRCP']\n",
    "y = combined['Runoff']\n",
    "obs_r = np.corrcoef(x,y)[0,1]\n",
    "print(obs_r)"
   ]
  },
  {
   "cell_type": "code",
   "execution_count": 43,
   "metadata": {},
   "outputs": [],
   "source": [
    "r = combined.rolling(window = 30)"
   ]
  },
  {
   "cell_type": "code",
   "execution_count": 44,
   "metadata": {},
   "outputs": [
    {
     "data": {
      "text/plain": [
       "Text(0,0.5,'Runoff (m)')"
      ]
     },
     "execution_count": 44,
     "metadata": {},
     "output_type": "execute_result"
    },
    {
     "data": {
      "image/png": "[encoded data removed]",
      "text/plain": [
       "<Figure size 432x288 with 1 Axes>"
      ]
     },
     "metadata": {},
     "output_type": "display_data"
    }
   ],
   "source": [
    "combined['Runoff'].plot(color = 'gray')\n",
    "r.mean()['Runoff'].plot(color = 'red')\n",
    "plt.xlabel('Date')\n",
    "plt.ylabel('Runoff (m)')"
   ]
  },
  {
   "cell_type": "code",
   "execution_count": 42,
   "metadata": {},
   "outputs": [
    {
     "data": {
      "text/plain": [
       "(-14.583655538572485,\n",
       " 3.820225013282269e-22,\n",
       " 16,\n",
       " 6558,\n",
       " {'1%': -3.9601511280844064,\n",
       "  '5%': -3.4111596826645516,\n",
       "  '10%': -3.1274443578874687},\n",
       " 87403.06048009038)"
      ]
     },
     "execution_count": 42,
     "metadata": {},
     "output_type": "execute_result"
    }
   ],
   "source": [
    "adfuller(combined['Runoff'], autolag='AIC', regression='ct')"
   ]
  },
  {
   "cell_type": "code",
   "execution_count": 45,
   "metadata": {},
   "outputs": [
    {
     "data": {
      "text/plain": [
       "(-18.25833550325851,\n",
       " 0.0,\n",
       " 14,\n",
       " 6560,\n",
       " {'1%': -3.960150706807017,\n",
       "  '5%': -3.4111594784288735,\n",
       "  '10%': -3.1274442376285414},\n",
       " 54175.25342491291)"
      ]
     },
     "execution_count": 45,
     "metadata": {},
     "output_type": "execute_result"
    }
   ],
   "source": [
    "adfuller(combined['PRCP'], autolag='AIC', regression='ct')"
   ]
  },
  {
   "cell_type": "code",
   "execution_count": 80,
   "metadata": {},
   "outputs": [
    {
     "data": {
      "text/plain": [
       "[1, 2, 3, 4]"
      ]
     },
     "execution_count": 80,
     "metadata": {},
     "output_type": "execute_result"
    }
   ],
   "source": [
    "list(range(1,5))"
   ]
  },
  {
   "cell_type": "code",
   "execution_count": 81,
   "metadata": {},
   "outputs": [],
   "source": [
    "#converting values of features into array\n",
    "array_values = combined.values"
   ]
  },
  {
   "cell_type": "code",
   "execution_count": 82,
   "metadata": {},
   "outputs": [
    {
     "data": {
      "text/plain": [
       "array([[ 65.45833333,   0.        ,  24.4       ,   9.4       ],\n",
       "       [ 65.14583333,   0.        ,  25.        ,  13.3       ],\n",
       "       [ 64.58333333,   0.        ,  25.6       ,  19.4       ],\n",
       "       ...,\n",
       "       [115.22916667,   0.        ,   5.        ,   1.1       ],\n",
       "       [102.8625    ,   0.        ,  13.3       ,   1.1       ],\n",
       "       [103.69791667,   7.1       ,  15.        ,   5.        ]])"
      ]
     },
     "execution_count": 82,
     "metadata": {},
     "output_type": "execute_result"
    }
   ],
   "source": [
    "array_values"
   ]
  },
  {
   "cell_type": "code",
   "execution_count": 83,
   "metadata": {},
   "outputs": [],
   "source": [
    "#scale all the features between 0 and 1\n",
    "scaler = MinMaxScaler(feature_range=(0,1))\n",
    "scaled = scaler.fit_transform(array_values)"
   ]
  },
  {
   "cell_type": "code",
   "execution_count": 84,
   "metadata": {},
   "outputs": [],
   "source": [
    "df = pd.DataFrame(scaled)"
   ]
  },
  {
   "cell_type": "code",
   "execution_count": 85,
   "metadata": {},
   "outputs": [
    {
     "data": {
      "text/html": [
       "<div>\n",
       "<style scoped>\n",
       "    .dataframe tbody tr th:only-of-type {\n",
       "        vertical-align: middle;\n",
       "    }\n",
       "\n",
       "    .dataframe tbody tr th {\n",
       "        vertical-align: top;\n",
       "    }\n",
       "\n",
       "    .dataframe thead th {\n",
       "        text-align: right;\n",
       "    }\n",
       "</style>\n",
       "<table border=\"1\" class=\"dataframe\">\n",
       "  <thead>\n",
       "    <tr style=\"text-align: right;\">\n",
       "      <th></th>\n",
       "      <th>0</th>\n",
       "      <th>1</th>\n",
       "      <th>2</th>\n",
       "      <th>3</th>\n",
       "    </tr>\n",
       "  </thead>\n",
       "  <tbody>\n",
       "    <tr>\n",
       "      <th>0</th>\n",
       "      <td>0.003050</td>\n",
       "      <td>0.000000</td>\n",
       "      <td>0.619289</td>\n",
       "      <td>0.498674</td>\n",
       "    </tr>\n",
       "    <tr>\n",
       "      <th>1</th>\n",
       "      <td>0.003019</td>\n",
       "      <td>0.000000</td>\n",
       "      <td>0.634518</td>\n",
       "      <td>0.602122</td>\n",
       "    </tr>\n",
       "    <tr>\n",
       "      <th>2</th>\n",
       "      <td>0.002963</td>\n",
       "      <td>0.000000</td>\n",
       "      <td>0.649746</td>\n",
       "      <td>0.763926</td>\n",
       "    </tr>\n",
       "    <tr>\n",
       "      <th>3</th>\n",
       "      <td>0.003026</td>\n",
       "      <td>0.011218</td>\n",
       "      <td>0.634518</td>\n",
       "      <td>0.602122</td>\n",
       "    </tr>\n",
       "    <tr>\n",
       "      <th>4</th>\n",
       "      <td>0.002934</td>\n",
       "      <td>0.000000</td>\n",
       "      <td>0.451777</td>\n",
       "      <td>0.220159</td>\n",
       "    </tr>\n",
       "  </tbody>\n",
       "</table>\n",
       "</div>"
      ],
      "text/plain": [
       "          0         1         2         3\n",
       "0  0.003050  0.000000  0.619289  0.498674\n",
       "1  0.003019  0.000000  0.634518  0.602122\n",
       "2  0.002963  0.000000  0.649746  0.763926\n",
       "3  0.003026  0.011218  0.634518  0.602122\n",
       "4  0.002934  0.000000  0.451777  0.220159"
      ]
     },
     "execution_count": 85,
     "metadata": {},
     "output_type": "execute_result"
    }
   ],
   "source": [
    "df.head()"
   ]
  },
  {
   "cell_type": "code",
   "execution_count": 86,
   "metadata": {},
   "outputs": [
    {
     "data": {
      "text/plain": [
       "numpy.ndarray"
      ]
     },
     "execution_count": 86,
     "metadata": {},
     "output_type": "execute_result"
    }
   ],
   "source": [
    "type(scaled)"
   ]
  },
  {
   "cell_type": "code",
   "execution_count": 87,
   "metadata": {},
   "outputs": [],
   "source": [
    "cols = list()"
   ]
  },
  {
   "cell_type": "code",
   "execution_count": 88,
   "metadata": {},
   "outputs": [],
   "source": [
    "cols = df.shift(0)"
   ]
  },
  {
   "cell_type": "code",
   "execution_count": 89,
   "metadata": {},
   "outputs": [],
   "source": [
    "\n",
    "def transform(data, vars_in=1, vars_out=1):\n",
    "    n_vars = 1 if type(data) is list else data.shape[1]\n",
    "    cols = list()\n",
    "    names = list()\n",
    "    for i in range(vars_in, 0, -1):\n",
    "        cols.append(data.shift(i))\n",
    "        names += ['var%d(t-%d)' %(j+1, i) for j in range(n_vars)]\n",
    "    for i in range (0, vars_out):\n",
    "        cols.append(data.shift(-i))\n",
    "        if i == 0:\n",
    "            names += [('var%d(t)' %(j+1)) for j in range(n_vars)]\n",
    "        else:\n",
    "            names += [('var%d(t+%d)' %(j+1, i)) for j in range(n_vars)]\n",
    "    agg = pd.concat(cols, axis=1)\n",
    "    agg.columns = names\n",
    "    return agg\n"
   ]
  },
  {
   "cell_type": "code",
   "execution_count": 90,
   "metadata": {},
   "outputs": [],
   "source": [
    "new_df = transform(df,1, 1)"
   ]
  },
  {
   "cell_type": "code",
   "execution_count": 91,
   "metadata": {},
   "outputs": [
    {
     "data": {
      "text/html": [
       "<div>\n",
       "<style scoped>\n",
       "    .dataframe tbody tr th:only-of-type {\n",
       "        vertical-align: middle;\n",
       "    }\n",
       "\n",
       "    .dataframe tbody tr th {\n",
       "        vertical-align: top;\n",
       "    }\n",
       "\n",
       "    .dataframe thead th {\n",
       "        text-align: right;\n",
       "    }\n",
       "</style>\n",
       "<table border=\"1\" class=\"dataframe\">\n",
       "  <thead>\n",
       "    <tr style=\"text-align: right;\">\n",
       "      <th></th>\n",
       "      <th>var1(t-1)</th>\n",
       "      <th>var2(t-1)</th>\n",
       "      <th>var3(t-1)</th>\n",
       "      <th>var4(t-1)</th>\n",
       "      <th>var1(t)</th>\n",
       "      <th>var2(t)</th>\n",
       "      <th>var3(t)</th>\n",
       "      <th>var4(t)</th>\n",
       "    </tr>\n",
       "  </thead>\n",
       "  <tbody>\n",
       "    <tr>\n",
       "      <th>0</th>\n",
       "      <td>NaN</td>\n",
       "      <td>NaN</td>\n",
       "      <td>NaN</td>\n",
       "      <td>NaN</td>\n",
       "      <td>0.003050</td>\n",
       "      <td>0.000000</td>\n",
       "      <td>0.619289</td>\n",
       "      <td>0.498674</td>\n",
       "    </tr>\n",
       "    <tr>\n",
       "      <th>1</th>\n",
       "      <td>0.003050</td>\n",
       "      <td>0.000000</td>\n",
       "      <td>0.619289</td>\n",
       "      <td>0.498674</td>\n",
       "      <td>0.003019</td>\n",
       "      <td>0.000000</td>\n",
       "      <td>0.634518</td>\n",
       "      <td>0.602122</td>\n",
       "    </tr>\n",
       "    <tr>\n",
       "      <th>2</th>\n",
       "      <td>0.003019</td>\n",
       "      <td>0.000000</td>\n",
       "      <td>0.634518</td>\n",
       "      <td>0.602122</td>\n",
       "      <td>0.002963</td>\n",
       "      <td>0.000000</td>\n",
       "      <td>0.649746</td>\n",
       "      <td>0.763926</td>\n",
       "    </tr>\n",
       "    <tr>\n",
       "      <th>3</th>\n",
       "      <td>0.002963</td>\n",
       "      <td>0.000000</td>\n",
       "      <td>0.649746</td>\n",
       "      <td>0.763926</td>\n",
       "      <td>0.003026</td>\n",
       "      <td>0.011218</td>\n",
       "      <td>0.634518</td>\n",
       "      <td>0.602122</td>\n",
       "    </tr>\n",
       "    <tr>\n",
       "      <th>4</th>\n",
       "      <td>0.003026</td>\n",
       "      <td>0.011218</td>\n",
       "      <td>0.634518</td>\n",
       "      <td>0.602122</td>\n",
       "      <td>0.002934</td>\n",
       "      <td>0.000000</td>\n",
       "      <td>0.451777</td>\n",
       "      <td>0.220159</td>\n",
       "    </tr>\n",
       "  </tbody>\n",
       "</table>\n",
       "</div>"
      ],
      "text/plain": [
       "   var1(t-1)  var2(t-1)  var3(t-1)  var4(t-1)   var1(t)   var2(t)   var3(t)  \\\n",
       "0        NaN        NaN        NaN        NaN  0.003050  0.000000  0.619289   \n",
       "1   0.003050   0.000000   0.619289   0.498674  0.003019  0.000000  0.634518   \n",
       "2   0.003019   0.000000   0.634518   0.602122  0.002963  0.000000  0.649746   \n",
       "3   0.002963   0.000000   0.649746   0.763926  0.003026  0.011218  0.634518   \n",
       "4   0.003026   0.011218   0.634518   0.602122  0.002934  0.000000  0.451777   \n",
       "\n",
       "    var4(t)  \n",
       "0  0.498674  \n",
       "1  0.602122  \n",
       "2  0.763926  \n",
       "3  0.602122  \n",
       "4  0.220159  "
      ]
     },
     "execution_count": 91,
     "metadata": {},
     "output_type": "execute_result"
    }
   ],
   "source": [
    "new_df.head()"
   ]
  },
  {
   "cell_type": "code",
   "execution_count": 92,
   "metadata": {},
   "outputs": [],
   "source": [
    "new_df.drop(new_df.columns[[5,6,7]], axis=1, inplace=True)"
   ]
  },
  {
   "cell_type": "code",
   "execution_count": 93,
   "metadata": {},
   "outputs": [
    {
     "data": {
      "text/html": [
       "<div>\n",
       "<style scoped>\n",
       "    .dataframe tbody tr th:only-of-type {\n",
       "        vertical-align: middle;\n",
       "    }\n",
       "\n",
       "    .dataframe tbody tr th {\n",
       "        vertical-align: top;\n",
       "    }\n",
       "\n",
       "    .dataframe thead th {\n",
       "        text-align: right;\n",
       "    }\n",
       "</style>\n",
       "<table border=\"1\" class=\"dataframe\">\n",
       "  <thead>\n",
       "    <tr style=\"text-align: right;\">\n",
       "      <th></th>\n",
       "      <th>var1(t-1)</th>\n",
       "      <th>var2(t-1)</th>\n",
       "      <th>var3(t-1)</th>\n",
       "      <th>var4(t-1)</th>\n",
       "      <th>var1(t)</th>\n",
       "    </tr>\n",
       "  </thead>\n",
       "  <tbody>\n",
       "    <tr>\n",
       "      <th>0</th>\n",
       "      <td>NaN</td>\n",
       "      <td>NaN</td>\n",
       "      <td>NaN</td>\n",
       "      <td>NaN</td>\n",
       "      <td>0.003050</td>\n",
       "    </tr>\n",
       "    <tr>\n",
       "      <th>1</th>\n",
       "      <td>0.003050</td>\n",
       "      <td>0.000000</td>\n",
       "      <td>0.619289</td>\n",
       "      <td>0.498674</td>\n",
       "      <td>0.003019</td>\n",
       "    </tr>\n",
       "    <tr>\n",
       "      <th>2</th>\n",
       "      <td>0.003019</td>\n",
       "      <td>0.000000</td>\n",
       "      <td>0.634518</td>\n",
       "      <td>0.602122</td>\n",
       "      <td>0.002963</td>\n",
       "    </tr>\n",
       "    <tr>\n",
       "      <th>3</th>\n",
       "      <td>0.002963</td>\n",
       "      <td>0.000000</td>\n",
       "      <td>0.649746</td>\n",
       "      <td>0.763926</td>\n",
       "      <td>0.003026</td>\n",
       "    </tr>\n",
       "    <tr>\n",
       "      <th>4</th>\n",
       "      <td>0.003026</td>\n",
       "      <td>0.011218</td>\n",
       "      <td>0.634518</td>\n",
       "      <td>0.602122</td>\n",
       "      <td>0.002934</td>\n",
       "    </tr>\n",
       "  </tbody>\n",
       "</table>\n",
       "</div>"
      ],
      "text/plain": [
       "   var1(t-1)  var2(t-1)  var3(t-1)  var4(t-1)   var1(t)\n",
       "0        NaN        NaN        NaN        NaN  0.003050\n",
       "1   0.003050   0.000000   0.619289   0.498674  0.003019\n",
       "2   0.003019   0.000000   0.634518   0.602122  0.002963\n",
       "3   0.002963   0.000000   0.649746   0.763926  0.003026\n",
       "4   0.003026   0.011218   0.634518   0.602122  0.002934"
      ]
     },
     "execution_count": 93,
     "metadata": {},
     "output_type": "execute_result"
    }
   ],
   "source": [
    "new_df.head()"
   ]
  },
  {
   "cell_type": "code",
   "execution_count": 94,
   "metadata": {},
   "outputs": [
    {
     "name": "stdout",
     "output_type": "stream",
     "text": [
      "(3650, 1, 4) (3650,) (2925, 1, 4) (2925,)\n"
     ]
    }
   ],
   "source": [
    "values = new_df.values\n",
    "n_train_days = 365*10\n",
    "train = values[:n_train_days, :]\n",
    "test = values[n_train_days:, :]\n",
    "\n",
    "#specify input and output values\n",
    "train_X, train_y = train[:, :-1], train[:, -1]\n",
    "test_X, test_y = test[:, :-1], test[:,-1]\n",
    "\n",
    "train_X = train_X.reshape(train_X.shape[0], 1, train_X.shape[1])\n",
    "test_X = test_X.reshape(test_X.shape[0], 1, test_X.shape[1])\n",
    "\n",
    "print(train_X.shape, train_y.shape, test_X.shape, test_y.shape)"
   ]
  },
  {
   "cell_type": "code",
   "execution_count": 95,
   "metadata": {},
   "outputs": [
    {
     "data": {
      "text/plain": [
       "array([[[       nan,        nan,        nan,        nan]],\n",
       "\n",
       "       [[0.00305048, 0.        , 0.61928934, 0.49867374]],\n",
       "\n",
       "       [[0.00301937, 0.        , 0.63451777, 0.60212202]],\n",
       "\n",
       "       ...,\n",
       "\n",
       "       [[0.02931699, 0.08071135, 0.53553299, 0.4270557 ]],\n",
       "\n",
       "       [[0.01378974, 0.        , 0.25380711, 0.24933687]],\n",
       "\n",
       "       [[0.00923608, 0.        , 0.29695431, 0.27851459]]])"
      ]
     },
     "execution_count": 95,
     "metadata": {},
     "output_type": "execute_result"
    }
   ],
   "source": [
    "train_X"
   ]
  },
  {
   "cell_type": "code",
   "execution_count": 98,
   "metadata": {},
   "outputs": [
    {
     "name": "stdout",
     "output_type": "stream",
     "text": [
      "Train on 3650 samples, validate on 2925 samples\n",
      "Epoch 1/60\n",
      " - 47s - loss: nan - val_loss: nan\n",
      "Epoch 2/60\n",
      " - 49s - loss: nan - val_loss: nan\n",
      "Epoch 3/60\n",
      " - 48s - loss: nan - val_loss: nan\n",
      "Epoch 4/60\n",
      " - 43s - loss: nan - val_loss: nan\n",
      "Epoch 5/60\n",
      " - 43s - loss: nan - val_loss: nan\n",
      "Epoch 6/60\n",
      " - 44s - loss: nan - val_loss: nan\n",
      "Epoch 7/60\n",
      " - 43s - loss: nan - val_loss: nan\n",
      "Epoch 8/60\n",
      " - 43s - loss: nan - val_loss: nan\n",
      "Epoch 9/60\n",
      " - 43s - loss: nan - val_loss: nan\n",
      "Epoch 10/60\n",
      " - 43s - loss: nan - val_loss: nan\n",
      "Epoch 11/60\n",
      " - 43s - loss: nan - val_loss: nan\n",
      "Epoch 12/60\n",
      " - 43s - loss: nan - val_loss: nan\n",
      "Epoch 13/60\n",
      " - 43s - loss: nan - val_loss: nan\n",
      "Epoch 14/60\n",
      " - 43s - loss: nan - val_loss: nan\n",
      "Epoch 15/60\n",
      " - 43s - loss: nan - val_loss: nan\n",
      "Epoch 16/60\n",
      " - 43s - loss: nan - val_loss: nan\n",
      "Epoch 17/60\n",
      " - 43s - loss: nan - val_loss: nan\n",
      "Epoch 18/60\n",
      " - 43s - loss: nan - val_loss: nan\n",
      "Epoch 19/60\n",
      " - 43s - loss: nan - val_loss: nan\n",
      "Epoch 20/60\n",
      " - 44s - loss: nan - val_loss: nan\n",
      "Epoch 21/60\n",
      " - 44s - loss: nan - val_loss: nan\n",
      "Epoch 22/60\n",
      " - 44s - loss: nan - val_loss: nan\n",
      "Epoch 23/60\n",
      " - 44s - loss: nan - val_loss: nan\n",
      "Epoch 24/60\n",
      " - 44s - loss: nan - val_loss: nan\n",
      "Epoch 25/60\n",
      " - 44s - loss: nan - val_loss: nan\n",
      "Epoch 26/60\n",
      " - 44s - loss: nan - val_loss: nan\n",
      "Epoch 27/60\n",
      " - 44s - loss: nan - val_loss: nan\n",
      "Epoch 28/60\n",
      " - 43s - loss: nan - val_loss: nan\n",
      "Epoch 29/60\n",
      " - 43s - loss: nan - val_loss: nan\n",
      "Epoch 30/60\n",
      " - 43s - loss: nan - val_loss: nan\n",
      "Epoch 31/60\n",
      " - 43s - loss: nan - val_loss: nan\n",
      "Epoch 32/60\n",
      " - 43s - loss: nan - val_loss: nan\n",
      "Epoch 33/60\n",
      " - 43s - loss: nan - val_loss: nan\n",
      "Epoch 34/60\n",
      " - 44s - loss: nan - val_loss: nan\n",
      "Epoch 35/60\n",
      " - 43s - loss: nan - val_loss: nan\n",
      "Epoch 36/60\n",
      " - 43s - loss: nan - val_loss: nan\n",
      "Epoch 37/60\n",
      " - 43s - loss: nan - val_loss: nan\n",
      "Epoch 38/60\n",
      " - 44s - loss: nan - val_loss: nan\n",
      "Epoch 39/60\n",
      " - 43s - loss: nan - val_loss: nan\n",
      "Epoch 40/60\n",
      " - 43s - loss: nan - val_loss: nan\n",
      "Epoch 41/60\n",
      " - 44s - loss: nan - val_loss: nan\n",
      "Epoch 42/60\n",
      " - 44s - loss: nan - val_loss: nan\n",
      "Epoch 43/60\n",
      " - 44s - loss: nan - val_loss: nan\n",
      "Epoch 44/60\n",
      " - 44s - loss: nan - val_loss: nan\n",
      "Epoch 45/60\n",
      " - 44s - loss: nan - val_loss: nan\n",
      "Epoch 46/60\n",
      " - 44s - loss: nan - val_loss: nan\n",
      "Epoch 47/60\n",
      " - 44s - loss: nan - val_loss: nan\n",
      "Epoch 48/60\n",
      " - 44s - loss: nan - val_loss: nan\n",
      "Epoch 49/60\n",
      " - 44s - loss: nan - val_loss: nan\n",
      "Epoch 50/60\n",
      " - 44s - loss: nan - val_loss: nan\n",
      "Epoch 51/60\n",
      " - 44s - loss: nan - val_loss: nan\n",
      "Epoch 52/60\n",
      " - 44s - loss: nan - val_loss: nan\n",
      "Epoch 53/60\n",
      " - 45s - loss: nan - val_loss: nan\n",
      "Epoch 54/60\n",
      " - 44s - loss: nan - val_loss: nan\n",
      "Epoch 55/60\n",
      " - 44s - loss: nan - val_loss: nan\n",
      "Epoch 56/60\n",
      " - 45s - loss: nan - val_loss: nan\n",
      "Epoch 57/60\n",
      " - 44s - loss: nan - val_loss: nan\n",
      "Epoch 58/60\n",
      " - 44s - loss: nan - val_loss: nan\n",
      "Epoch 59/60\n",
      " - 44s - loss: nan - val_loss: nan\n",
      "Epoch 60/60\n",
      " - 44s - loss: nan - val_loss: nan\n"
     ]
    },
    {
     "ename": "NameError",
     "evalue": "name 'pyplot' is not defined",
     "output_type": "error",
     "traceback": [
      "\u001b[1;31m---------------------------------------------------------------------------\u001b[0m",
      "\u001b[1;31mNameError\u001b[0m                                 Traceback (most recent call last)",
      "\u001b[1;32m<ipython-input-98-6cb10911c588>\u001b[0m in \u001b[0;36m<module>\u001b[1;34m()\u001b[0m\n\u001b[0;32m     11\u001b[0m \u001b[1;33m\u001b[0m\u001b[0m\n\u001b[0;32m     12\u001b[0m \u001b[1;31m#plot model optimization\u001b[0m\u001b[1;33m\u001b[0m\u001b[1;33m\u001b[0m\u001b[0m\n\u001b[1;32m---> 13\u001b[1;33m \u001b[0mpyplot\u001b[0m\u001b[1;33m.\u001b[0m\u001b[0mplot\u001b[0m\u001b[1;33m(\u001b[0m\u001b[0mmodel_run\u001b[0m\u001b[1;33m.\u001b[0m\u001b[0mhistory\u001b[0m\u001b[1;33m[\u001b[0m\u001b[1;34m'loss'\u001b[0m\u001b[1;33m]\u001b[0m\u001b[1;33m,\u001b[0m \u001b[0mlabel\u001b[0m\u001b[1;33m=\u001b[0m\u001b[1;34m'training phase'\u001b[0m\u001b[1;33m)\u001b[0m\u001b[1;33m\u001b[0m\u001b[0m\n\u001b[0m\u001b[0;32m     14\u001b[0m \u001b[0mpyplot\u001b[0m\u001b[1;33m.\u001b[0m\u001b[0mplot\u001b[0m\u001b[1;33m(\u001b[0m\u001b[0mmodel_run\u001b[0m\u001b[1;33m.\u001b[0m\u001b[0mhistory\u001b[0m\u001b[1;33m[\u001b[0m\u001b[1;34m'val_loss'\u001b[0m\u001b[1;33m]\u001b[0m\u001b[1;33m,\u001b[0m \u001b[0mlabel\u001b[0m\u001b[1;33m=\u001b[0m\u001b[1;34m'testing phase'\u001b[0m\u001b[1;33m)\u001b[0m\u001b[1;33m\u001b[0m\u001b[0m\n\u001b[0;32m     15\u001b[0m \u001b[0mpyplot\u001b[0m\u001b[1;33m.\u001b[0m\u001b[0mlegend\u001b[0m\u001b[1;33m(\u001b[0m\u001b[1;33m)\u001b[0m\u001b[1;33m\u001b[0m\u001b[0m\n",
      "\u001b[1;31mNameError\u001b[0m: name 'pyplot' is not defined"
     ]
    }
   ],
   "source": [
    "#specify the network with 30 hidden neurons in the first hidden layer\n",
    "\n",
    "ann = Sequential()\n",
    "ann.add(LSTM(30, input_shape=(train_X.shape[1], train_X.shape[2])))\n",
    "ann.add(Dense(1))\n",
    "ann.compile(loss='mae', optimizer='adam')\n",
    "\n",
    "\n",
    "#fit the model\n",
    "model_run = ann.fit(train_X, train_y, epochs=60, batch_size=100, validation_data=(test_X, test_y), verbose=2, shuffle=False)\n",
    "\n",
    "#plot model optimization\n",
    "pyplot.plot(model_run.history['loss'], label='training phase')\n",
    "pyplot.plot(model_run.history['val_loss'], label='testing phase')\n",
    "pyplot.legend()\n",
    "pyplot.show()"
   ]
  },
  {
   "cell_type": "code",
   "execution_count": null,
   "metadata": {
    "collapsed": true
   },
   "outputs": [],
   "source": []
  }
 ],
 "metadata": {
  "kernelspec": {
   "display_name": "Python 3",
   "language": "python",
   "name": "python3"
  },
  "language_info": {
   "codemirror_mode": {
    "name": "ipython",
    "version": 3
   },
   "file_extension": ".py",
   "mimetype": "text/x-python",
   "name": "python",
   "nbconvert_exporter": "python",
   "pygments_lexer": "ipython3",
   "version": "3.6.5"
  }
 },
 "nbformat": 4,
 "nbformat_minor": 2
}
